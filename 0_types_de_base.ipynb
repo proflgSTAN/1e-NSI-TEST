{
  "cells": [
    {
      "cell_type": "code",
      "execution_count": null,
      "metadata": {
        "colab": {
          "base_uri": "https://localhost:8080/",
          "height": 34
        },
        "id": "Mu9j7TLUo9_l",
        "outputId": "697880a5-ce55-447f-db88-763d0f5aab86"
      },
      "outputs": [
        {
          "output_type": "execute_result",
          "data": {
            "text/plain": [
              "<IPython.core.display.HTML object>"
            ],
            "text/html": [
              "../mon_style.css"
            ]
          },
          "metadata": {},
          "execution_count": 1
        }
      ],
      "source": [
        "from IPython.display import HTML\n",
        "HTML(\"../mon_style.css\")"
      ]
    },
    {
      "cell_type": "markdown",
      "metadata": {
        "id": "qKiLKjrGo9_n"
      },
      "source": [
        "# Types de base"
      ]
    },
    {
      "cell_type": "markdown",
      "source": [
        "Les langages de programmation permettent de manipuler des __données__ de différents __types__.\n",
        "Un type définit l'ensemble des valeurs possibles pour les données qu'il admet."
      ],
      "metadata": {
        "id": "-eJlGMZ8pp6i"
      }
    },
    {
      "cell_type": "markdown",
      "metadata": {
        "id": "2vnllG6ao9_o"
      },
      "source": [
        "####  On va comparer trois différentes entrées qui devraient donner le mème résultat."
      ]
    },
    {
      "cell_type": "markdown",
      "metadata": {
        "id": "7mvqu8H7o9_o"
      },
      "source": [
        "####  On va comparer trois différentes entrées qui devraient donner le mème résultat."
      ]
    },
    {
      "cell_type": "markdown",
      "metadata": {
        "id": "7rF3RCqBo9_o"
      },
      "source": [
        "<span class=nom>1ère entrée :</span>"
      ]
    },
    {
      "cell_type": "code",
      "execution_count": null,
      "metadata": {
        "id": "zogDW43Bo9_o"
      },
      "outputs": [],
      "source": [
        "print(2+3)"
      ]
    },
    {
      "cell_type": "markdown",
      "metadata": {
        "id": "K118r17No9_o"
      },
      "source": [
        "<span class=nom>2ème entrée :</span>"
      ]
    },
    {
      "cell_type": "code",
      "execution_count": null,
      "metadata": {
        "id": "dnCAqli7o9_p"
      },
      "outputs": [],
      "source": [
        "a=2\n",
        "b=3\n",
        "print(a+b)"
      ]
    },
    {
      "cell_type": "markdown",
      "metadata": {
        "id": "pCrGYz2bo9_p"
      },
      "source": [
        "<span class=nom>3ème entrée : </span>"
      ]
    },
    {
      "cell_type": "code",
      "execution_count": null,
      "metadata": {
        "id": "r7ua6z35o9_p"
      },
      "outputs": [],
      "source": [
        "a=input('Entrer le nombre 2 : ')\n",
        "b=input('Entrer le nombre 3 : ')\n",
        "print(a+b)"
      ]
    },
    {
      "cell_type": "markdown",
      "metadata": {
        "id": "QLzYAS6mo9_p"
      },
      "source": [
        "###   \n",
        "Qu'est-ce qui peut provoquer cette différence d'affichage ?  \n",
        "Réponse :\n"
      ]
    },
    {
      "cell_type": "markdown",
      "metadata": {
        "id": "cEqxgE10o9_p"
      },
      "source": [
        "## Type d'un objet"
      ]
    },
    {
      "cell_type": "markdown",
      "metadata": {
        "id": "NTb_Lb5Xo9_p"
      },
      "source": [
        "Nous constatons par là que le symbole 2 peut représenter le nombre 2 ou le caractère 2. Cela dépend du type avec lequel nous avons déclaré ce 2.  \n",
        "Si nous écrivons `a=2` il comprend que nous déclarons un <span class=nom>int</span> (un entier).  \n",
        "Si nous écrivons `a=\"2\"` ou `a='2'`, il comprend que nous déclarons un <span class=nom>string</span> (un caractère)"
      ]
    },
    {
      "cell_type": "markdown",
      "metadata": {
        "id": "chgkP-yvo9_p"
      },
      "source": [
        "<span class=def>Vocabulaire</span> : l'addition de deux `string`s'appelle la <span class=nom>concaténation</span>."
      ]
    },
    {
      "cell_type": "markdown",
      "metadata": {
        "id": "uW5FbItdo9_p"
      },
      "source": [
        "Pour déterminer le <span class=nom>type</span> d'un objet que nous avons créé, on peut utiliser la commande `type` (justement)"
      ]
    },
    {
      "cell_type": "code",
      "execution_count": null,
      "metadata": {
        "id": "p8gwGWAWo9_p"
      },
      "outputs": [],
      "source": [
        "a=2\n",
        "b='3'\n",
        "c=a\n",
        "d='a'\n",
        "e=int(b)\n",
        "#f=int(d)\n",
        "print(a,' est du type',type(a))\n",
        "print(b,' est du type',type(b))\n",
        "print(c,' est du type',type(c))\n",
        "print(d,' est du type',type(d))\n",
        "print(e,' est du type',type(e))"
      ]
    },
    {
      "cell_type": "markdown",
      "metadata": {
        "id": "v8h4gyino9_p"
      },
      "source": [
        "###     \n",
        "Expliquer pourquoi `c` est du type `int`.  \n",
        "\n",
        "Réponse :"
      ]
    },
    {
      "cell_type": "markdown",
      "metadata": {
        "id": "h5KFngiWo9_q"
      },
      "source": [
        "###  \n",
        "Déterminer le type des objets suivants (*On pourra exécuter un code dans la case suivante pour trouver la réponse*)  :  \n",
        "* l'égalité `a==3`  :    \n",
        "* le nombre `pi` que vous obtenez dans la librairie `math` normalement vue en math l'année dernière.   :\n",
        "* l'écriture `'d'` :  \n",
        "* le nombre `2,3`  :  \n",
        "* l'inégalité `64<12` :  \n",
        "* le texte `'Bonjour'` :\n",
        "* l'objet `texte` créé par `texte=input('entrer un texte')` :\n",
        "* l'objet `nombre` créé par `nombre=input('entrer un nombre')` :"
      ]
    },
    {
      "cell_type": "code",
      "execution_count": null,
      "metadata": {
        "id": "rGHtVoZko9_q"
      },
      "outputs": [],
      "source": []
    },
    {
      "cell_type": "markdown",
      "metadata": {
        "id": "KPZCSIbUo9_q"
      },
      "source": [
        "###  \n",
        "Quels sont les objets de différents types que l'on peut ajouter (signe plus) ?  \n",
        "*Faites des essais pour déterminer les différents cas possibles et le résultat obtenu."
      ]
    },
    {
      "cell_type": "markdown",
      "metadata": {
        "id": "xagZIyuzo9_q"
      },
      "source": [
        "On peut aussi changer le type d'un objet si cela est cohérent.  \n",
        "Par exemple, on peut transformer un `string` en `int`."
      ]
    },
    {
      "cell_type": "code",
      "execution_count": null,
      "metadata": {
        "id": "TGDjUY-Bo9_q"
      },
      "outputs": [],
      "source": [
        "a='2'\n",
        "print('a est du type',type(a), 'et vaut :',a)\n",
        "a=int(a)\n",
        "print('a est du type',type(a),'et vaut :',a)"
      ]
    },
    {
      "cell_type": "code",
      "execution_count": null,
      "metadata": {
        "scrolled": true,
        "id": "EOgm3K_Jo9_q"
      },
      "outputs": [],
      "source": [
        "a='2'\n",
        "print('a est du type',type(a), 'et vaut :',a)\n",
        "b=int(a)\n",
        "print('b est du type',type(b),'et vaut :',b)\n",
        "print(\"p\"+a)\n",
        "c=float(a)\n",
        "print('c est du type',type(c),'et vaut :',c)\n",
        "d=str(c)\n",
        "print('d est du type',type(d),'et vaut :',d)\n",
        "e=str(b)\n",
        "print('e est du type',type(e),'et vaut :',e)"
      ]
    },
    {
      "cell_type": "markdown",
      "metadata": {
        "id": "UHRc0B1Ro9_q"
      },
      "source": [
        "## Changement du type d'un objet"
      ]
    },
    {
      "cell_type": "markdown",
      "metadata": {
        "id": "V2vTOSrSo9_q"
      },
      "source": [
        "Lorsque qu'un objet admet la même écriture dans un autre type, on puet changer son type.  \n",
        "Exemples :"
      ]
    },
    {
      "cell_type": "code",
      "execution_count": null,
      "metadata": {
        "id": "-PwqXuO5o9_q"
      },
      "outputs": [],
      "source": [
        "a=3\n",
        "b=2\n",
        "print(a+b)\n",
        "a=str(a)\n",
        "b=str(b)\n",
        "print(a+b)\n"
      ]
    },
    {
      "cell_type": "code",
      "execution_count": null,
      "metadata": {
        "id": "urUmqN8To9_q"
      },
      "outputs": [],
      "source": [
        "a=True\n",
        "b=False\n",
        "print(a,b)\n",
        "print(int(a),int(b))\n",
        "print(a+b)\n",
        "print(str(a)+str(b))"
      ]
    },
    {
      "cell_type": "code",
      "execution_count": null,
      "metadata": {
        "id": "AhE0sTEoo9_q"
      },
      "outputs": [],
      "source": [
        "a=5.3\n",
        "print(str(a))\n",
        "print(int(a))\n",
        "print(2*str(a),str(2*a))"
      ]
    },
    {
      "cell_type": "markdown",
      "metadata": {
        "id": "wZMHtzcvo9_r"
      },
      "source": [
        "## Input"
      ]
    },
    {
      "cell_type": "markdown",
      "metadata": {
        "id": "T3bPl0CBo9_r"
      },
      "source": [
        "On vient donc de voir que __l'instruction `ìnput` enregistre un `string`__."
      ]
    },
    {
      "cell_type": "markdown",
      "metadata": {
        "id": "JQfowtAko9_r"
      },
      "source": [
        "Voici donc pourquoi on écrit `a=int(input('Entrer un nombre'))` lorsque l'on veut permettre à l'utlisateur d'entrer un nombre que l'on va utiliser dans un calcul. `input()`renvoie un string, et `int()` change son type en nombre entier."
      ]
    },
    {
      "cell_type": "code",
      "execution_count": null,
      "metadata": {
        "id": "B7-52Jj1o9_r"
      },
      "outputs": [],
      "source": [
        "a=int(input('entrer le premier nombre : '))\n",
        "b=int(input('entrer le deuxième nombre : '))\n",
        "c=a+b\n",
        "print('la somme de ',a, ' et de ',b,' est : ',c,' et non pas',str(a)+str(b))"
      ]
    },
    {
      "cell_type": "markdown",
      "metadata": {
        "id": "2fkXtlJGo9_r"
      },
      "source": [
        "On peut aussi changer le type de notre imput au sein d'un calcul au besoin :"
      ]
    },
    {
      "cell_type": "code",
      "execution_count": null,
      "metadata": {
        "id": "ON2ueBUmo9_r"
      },
      "outputs": [],
      "source": [
        "a=input('entrer le premier nombre : ')\n",
        "b=input('entrer le deuxième nombre : ')\n",
        "c=int(a)+int(b)\n",
        "print('la somme de ',a, ' et de ',b,' est : ',c,' et non pas',a+b)"
      ]
    },
    {
      "cell_type": "markdown",
      "metadata": {
        "id": "V2HcOsQ2o9_r"
      },
      "source": [
        "###  \n",
        "Quel est le type des objets `a`, `b` et `c` dans le code suivant ?\n",
        "Réponse :"
      ]
    },
    {
      "cell_type": "code",
      "execution_count": null,
      "metadata": {
        "id": "kg-h_EGto9_r"
      },
      "outputs": [],
      "source": [
        "a=3\n",
        "b=int(input('b = '))\n",
        "c=a+b\n",
        "print(c)"
      ]
    },
    {
      "cell_type": "markdown",
      "metadata": {
        "id": "pCcbRRExo9_r"
      },
      "source": [
        "###   \n",
        "Écrire un programme qui demande son nom et son année de naissance à une personne  \n",
        "et qui donne une réponse personnalisée du type :   \n",
        "`Frédéric  a  37  ans.`\n"
      ]
    },
    {
      "cell_type": "code",
      "execution_count": null,
      "metadata": {
        "id": "i27qXokMo9_r"
      },
      "outputs": [],
      "source": []
    },
    {
      "cell_type": "markdown",
      "metadata": {
        "id": "CxggPtZ-o9_r"
      },
      "source": [
        "###   \n",
        "Écrire un programme de votre choix qui fait intervenir des objets de différents types."
      ]
    },
    {
      "cell_type": "markdown",
      "metadata": {
        "id": "aiNk3XN-o9_s"
      },
      "source": [
        "## Chaîne de caractères"
      ]
    },
    {
      "cell_type": "markdown",
      "metadata": {
        "id": "emc6DAteo9_s"
      },
      "source": [
        "Une <span class=nom>chaîne de caractères</span> est un objet composé de caractères (string) dont la place dans cette chaîne est numérotée.   \n",
        "Le premier caractère est au numéro 0.    \n",
        "Le dernier caractère est au numéro qui lui correspond ou au numéro -1.    \n",
        "Pour appeler un caractère donné dans une chaîne de caractères (un string), on écrit le nom de la châine de caratère et on  met entre crochet le numéro correspondant à sa place dans la chaîne."
      ]
    },
    {
      "cell_type": "code",
      "execution_count": null,
      "metadata": {
        "id": "ufh2zx2bo9_s"
      },
      "outputs": [],
      "source": [
        "z='Bonjour'\n",
        "print(a)\n",
        "print(a[0])\n",
        "print(a[1])\n",
        "for i in range(7):\n",
        "    print(a[i],end=\" \")"
      ]
    },
    {
      "cell_type": "markdown",
      "metadata": {
        "id": "kgRPSAzKo9_s"
      },
      "source": [
        "###   \n",
        "Déterminer pourquoi le code suivant ne fonctionne pas :`print(a[6/2])`"
      ]
    },
    {
      "cell_type": "code",
      "execution_count": null,
      "metadata": {
        "id": "CzPyPb5Eo9_s"
      },
      "outputs": [],
      "source": [
        "print(6/2)\n",
        "print(type(6/2))\n",
        "print(z[3])"
      ]
    },
    {
      "cell_type": "markdown",
      "metadata": {
        "id": "Ihj6LW_wo9_s"
      },
      "source": [
        "###  \n",
        "Quel opérateur devrions-nous mettre entre 6 et 2 pour que cela fonctionne et nous renvoie `j` ?   \n",
        "*Si vous n'avez pas d'idée, vous pouvez chercher sur Internet*"
      ]
    },
    {
      "cell_type": "markdown",
      "metadata": {
        "id": "xizx1aIdo9_s"
      },
      "source": [
        "## Récapitulatif"
      ]
    },
    {
      "cell_type": "markdown",
      "metadata": {
        "id": "9_VUqE2Ho9_s"
      },
      "source": [
        "<span class=exemple>int</span>   -->  entier    \n",
        "<span class=exemple>str</span>   -->  caratrère ou chaine de caractère    \n",
        "<span class=exemple>float</span> -->  nombre décimal plutôt appelé nombre à virgule en informatique *(on verra pourquoi plus tard)*   \n",
        "<span class=exemple>bool</span>  -->  Booléen qui a deux valeurs possibles : `True` or `False`."
      ]
    }
  ],
  "metadata": {
    "kernelspec": {
      "display_name": "Python [conda env:base] *",
      "language": "python",
      "name": "conda-base-py"
    },
    "language_info": {
      "codemirror_mode": {
        "name": "ipython",
        "version": 3
      },
      "file_extension": ".py",
      "mimetype": "text/x-python",
      "name": "python",
      "nbconvert_exporter": "python",
      "pygments_lexer": "ipython3",
      "version": "3.12.7"
    },
    "colab": {
      "provenance": []
    }
  },
  "nbformat": 4,
  "nbformat_minor": 0
}